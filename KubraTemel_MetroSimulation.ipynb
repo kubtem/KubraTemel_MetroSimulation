{
 "cells": [
  {
   "cell_type": "markdown",
   "id": "7c10ff2b-6c14-4d63-afc5-1808c08b2b24",
   "metadata": {},
   "source": [
    "# Driverless Metro Simulation (Route Optimization)"
   ]
  },
  {
   "cell_type": "code",
   "execution_count": 84,
   "id": "bbd6220d-9889-4fd4-9c22-e3e0fec2b2b7",
   "metadata": {},
   "outputs": [],
   "source": [
    "from collections import deque"
   ]
  },
  {
   "cell_type": "code",
   "execution_count": 85,
   "id": "6ef52e10-a111-45dd-b67f-12194b0e2fc9",
   "metadata": {},
   "outputs": [],
   "source": [
    "import heapq"
   ]
  },
  {
   "cell_type": "markdown",
   "id": "022ebab1-47ee-4a4d-bb6f-63346e7fa04e",
   "metadata": {},
   "source": [
    "### 🚇 Welcome to Our Driverless Metro Simulation!\n",
    "### This simulation models a metro system, helping us find the best routes 🚆"
   ]
  },
  {
   "cell_type": "markdown",
   "id": "9dd87094-47ab-4aee-97e8-f09949135188",
   "metadata": {},
   "source": [
    "## 1. Creating Stations in our Metro Network"
   ]
  },
  {
   "cell_type": "code",
   "execution_count": 86,
   "id": "6a0cd579-8950-45d6-80f4-711f7e1dcb3b",
   "metadata": {},
   "outputs": [],
   "source": [
    "class Station:\n",
    "    def __init__(self, name, line):\n",
    "        \"\"\" \n",
    "        Imagine a metro station. Each station has a name, a metro line, \n",
    "        and connections to other stations.\n",
    "        \"\"\"\n",
    "        self.name = name  # The name of the station\n",
    "        self.line = line  # The metro line it belongs to\n",
    "        self.neighbors = []  # List of connected stations and their travel times\n",
    "\n",
    "    def add_neighbor(self, station, time):\n",
    "        \"\"\" Connect this station to another with a specified travel time. \"\"\"\n",
    "        self.neighbors.append((station, time))\n",
    "\n",
    "    def get_neighbors(self):\n",
    "        \"\"\" Retrieve all stations connected to this one. \"\"\"\n",
    "        return self.neighbors"
   ]
  },
  {
   "cell_type": "markdown",
   "id": "0098a438-38e1-4687-834d-54485fb2c85e",
   "metadata": {},
   "source": [
    "## 2. Building the Metro Network and Finding the Least Transfer Route Using BFS"
   ]
  },
  {
   "cell_type": "code",
   "execution_count": 87,
   "id": "b39d08ac-b7a3-47f4-907d-3da615f0a56b",
   "metadata": {},
   "outputs": [],
   "source": [
    "class MetroNetwork:\n",
    "    def __init__(self):\n",
    "        \"\"\" \n",
    "        This is our entire metro system, storing all stations and connections.\n",
    "        \"\"\"\n",
    "        self.stations = {}  # Dictionary to store station objects\n",
    "\n",
    "    def add_station(self, name, line):\n",
    "        \"\"\" Add a station if it doesn't already exist. \"\"\"\n",
    "        if name not in self.stations:\n",
    "            self.stations[name] = Station(name, line)\n",
    "\n",
    "    def add_connection(self, name1, name2, time):\n",
    "        \"\"\" Create a connection (bidirectional) between two stations. \"\"\"\n",
    "        if name1 in self.stations and name2 in self.stations:\n",
    "            station1 = self.stations[name1]\n",
    "            station2 = self.stations[name2]\n",
    "            station1.add_neighbor(station2, time)\n",
    "            station2.add_neighbor(station1, time)\n",
    "\n",
    "    def find_least_transfer_route(self, start, end):\n",
    "        \"\"\"\n",
    "        We want to travel with the fewest transfers! \n",
    "        To do this, we use BFS (Breadth-First Search), which explores all possibilities.\n",
    "        \"\"\"\n",
    "        if start not in self.stations or end not in self.stations:\n",
    "            return None  # If stations don't exist, return None\n",
    "\n",
    "        queue = deque([(start, [start], self.stations[start].line)])  # Start queue\n",
    "        visited = set()  # Track visited stations\n",
    "\n",
    "        while queue:\n",
    "            current, path, current_line = queue.popleft()  # Get the first item\n",
    "            \n",
    "            if current == end:\n",
    "                return path  # We found our destination! \n",
    "            \n",
    "            visited.add(current)\n",
    "\n",
    "            for neighbor, _ in self.stations[current].get_neighbors():\n",
    "                if neighbor.name not in visited:\n",
    "                    queue.append((neighbor.name, path + [neighbor.name], neighbor.line))\n",
    "\n",
    "        return None  # No route found"
   ]
  },
  {
   "cell_type": "markdown",
   "id": "160692d1-6c1a-49e3-ac37-63ee27d166e0",
   "metadata": {},
   "source": [
    "## 4. Finding the Fastest Route Using A* (A-Star) Algorithm"
   ]
  },
  {
   "cell_type": "code",
   "execution_count": 88,
   "id": "bffdf7d4-071e-4810-9673-2dc504984201",
   "metadata": {},
   "outputs": [],
   "source": [
    "    def find_fastest_route(self, start, end):\n",
    "        \"\"\"\n",
    "        Sometimes, we just want the fastest way to our destination! \n",
    "        Here, we use A* (A-Star), a smart algorithm that prioritizes shorter travel times.\n",
    "        \"\"\"\n",
    "        if start not in self.stations or end not in self.stations:\n",
    "            return None  \n",
    "\n",
    "        open_list = []  # Priority queue for A*\n",
    "        heapq.heappush(open_list, (0, start, [start]))  # Start with zero cost\n",
    "        g_score = {start: 0}  # Travel time cost for each station\n",
    "\n",
    "        while open_list:\n",
    "            _, current, path = heapq.heappop(open_list)\n",
    "\n",
    "            if current == end:\n",
    "                return path  # We've reached the destination! \n",
    "\n",
    "            for neighbor, time in self.stations[current].get_neighbors():\n",
    "                tentative_g_score = g_score[current] + time\n",
    "\n",
    "                if neighbor.name not in g_score or tentative_g_score < g_score[neighbor.name]:\n",
    "                    g_score[neighbor.name] = tentative_g_score\n",
    "                    heapq.heappush(open_list, (tentative_g_score, neighbor.name, path + [neighbor.name]))\n",
    "\n",
    "        return None  # No path found "
   ]
  },
  {
   "cell_type": "markdown",
   "id": "4369c630-b3a3-4454-ad8e-819e2be91b4d",
   "metadata": {},
   "source": [
    "## 5. Let's Simulate!"
   ]
  },
  {
   "cell_type": "code",
   "execution_count": 89,
   "id": "1b0194ae-fe22-49ed-9bb2-087adae3dc7e",
   "metadata": {
    "scrolled": true
   },
   "outputs": [
    {
     "name": "stdout",
     "output_type": "stream",
     "text": [
      "Least transfer route from A to D: ['A', 'E', 'D']\n"
     ]
    }
   ],
   "source": [
    "if __name__ == \"__main__\":\n",
    "    metro = MetroNetwork()\n",
    "\n",
    "    # Adding Stations\n",
    "    metro.add_station(\"A\", 1)\n",
    "    metro.add_station(\"B\", 1)\n",
    "    metro.add_station(\"C\", 2)\n",
    "    metro.add_station(\"D\", 2)\n",
    "    metro.add_station(\"E\", 3)\n",
    "\n",
    "    # Connecting Stations\n",
    "    metro.add_connection(\"A\", \"B\", 5)\n",
    "    metro.add_connection(\"B\", \"C\", 7)\n",
    "    metro.add_connection(\"C\", \"D\", 3)\n",
    "    metro.add_connection(\"D\", \"E\", 4)\n",
    "    metro.add_connection(\"A\", \"E\", 10)\n",
    "\n",
    "    # Finding the Least Transfer Route\n",
    "    route = metro.find_least_transfer_route(\"A\", \"D\")\n",
    "    print(\"Least transfer route from A to D:\", route)"
   ]
  }
 ],
 "metadata": {
  "kernelspec": {
   "display_name": "Python 3 (ipykernel)",
   "language": "python",
   "name": "python3"
  },
  "language_info": {
   "codemirror_mode": {
    "name": "ipython",
    "version": 3
   },
   "file_extension": ".py",
   "mimetype": "text/x-python",
   "name": "python",
   "nbconvert_exporter": "python",
   "pygments_lexer": "ipython3",
   "version": "3.11.7"
  },
  "widgets": {
   "application/vnd.jupyter.widget-state+json": {
    "state": {},
    "version_major": 2,
    "version_minor": 0
   }
  }
 },
 "nbformat": 4,
 "nbformat_minor": 5
}
